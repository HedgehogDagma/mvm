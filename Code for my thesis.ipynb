{
 "cells": [
  {
   "cell_type": "markdown",
   "metadata": {},
   "source": [
    "# 毕业论文的代码\n",
    "## 题目：市值管理对股票资产定价的影响——基于拓展的Fama-French三因子模型实证分析\n",
    "作者：包岩霖 南开大学商学院财务管理专业本科生\n",
    "\n",
    "邮箱：byljason12308@gmail.com"
   ]
  },
  {
   "cell_type": "code",
   "execution_count": null,
   "metadata": {},
   "outputs": [],
   "source": [
    "# 导入所需包\n",
    "import time\n",
    "import numpy as np\n",
    "import pandas as pd\n",
    "import statsmodels.api as sm\n",
    "import tushare as ts\n",
    "import matplotlib as mpl\n",
    "import seaborn as sns\n",
    "import matplotlib.pyplot as plt\n",
    "import statsmodels.formula.api as smf\n",
    "from datetime import datetime\n",
    "\n",
    "mpl.rc('font',family='Times New Roman')\n",
    "# 此处为注册tushare获取的token\n",
    "ts.set_token('')\n",
    "pro = ts.pro_api()\n",
    "%matplotlib inline"
   ]
  },
  {
   "cell_type": "markdown",
   "metadata": {},
   "source": [
    "## 导入第一部分处理后存储的.npy文件\n",
    "第一次使用请运行第一部分的代码，之后再使用时请在此步导入数据，略去第一部分，which will save a lot of time!\n",
    "\n",
    "Tushare是免费开源的python财经数据接口，本文使用的Tushare均可以注册Tushare账号后免费获取使用。\n",
    "\n",
    "此处因为数据版权问题，不提供数据源文件。"
   ]
  },
  {
   "cell_type": "code",
   "execution_count": null,
   "metadata": {},
   "outputs": [],
   "source": [
    "# 在存储.npy文件和重新读取时对文件名和变量名进行了更新统一，最开始写代码时的原变量名没改主要是不待老改了\n",
    "dict_pf = np.load('dict_pf.npy', allow_pickle=True).item()\n",
    "dict_mnt = np.load('dict_mnt.npy', allow_pickle=True).item()\n",
    "dict_seo = np.load('dict_seo.npy', allow_pickle=True).item()\n",
    "dict_day = np.load('dict_day.npy', allow_pickle=True).item()\n",
    "dict_rep = np.load('dict_rep.npy', allow_pickle=True).item()\n",
    "dict_sbpn_trading = np.load('dict_sbpn_trading.npy', allow_pickle=True).item()\n",
    "df_fs = pd.read_pickle('df_fs.pkl')\n",
    "df_rmd = pd.read_pickle('df_rmd.pkl')\n",
    "df_tmv = pd.read_pickle('df_tmv.pkl')\n",
    "\n",
    "# 剔除后的股票信息的字典\n",
    "dict_rmd = {}\n",
    "for stk in df_rmd.iloc[:,0]:\n",
    "    dict_rmd[stk] = dict_day[stk]"
   ]
  },
  {
   "cell_type": "markdown",
   "metadata": {},
   "source": [
    "### CSMAR数据\n",
    "#### 增发数据"
   ]
  },
  {
   "cell_type": "code",
   "execution_count": null,
   "metadata": {},
   "outputs": [],
   "source": [
    "# 导入2011～2020年10年的A股上市公司增发数据\n",
    "df_seo = pd.read_excel('/Users/bbbbyl/Python/datasets/RS_Aibasic.xlsx').drop([0,1]).reset_index(drop=True)\n",
    "# 构建一个dictionary来分别存储每只股票的数据\n",
    "dict_seo = dict(list(df_seo.groupby('Stkcd')))\n",
    "# 将数据中的日期部分改为与Tushare数据统一的格式\n",
    "for stk in dict_seo.keys():\n",
    "    dict_seo[stk].Ailtdt = [datetime.strftime(datetime.strptime(date, '%Y-%m-%d'),'%Y%m%d') for date in dict_seo[stk].Ailtdt]\n",
    "# 将字典存至.npy文件，以后直接导入使用\n",
    "np.save('dict_seo.npy', dict_seo)"
   ]
  },
  {
   "cell_type": "markdown",
   "metadata": {},
   "source": [
    "### Tushare数据\n",
    "#### daily数据"
   ]
  },
  {
   "cell_type": "code",
   "execution_count": null,
   "metadata": {},
   "outputs": [],
   "source": [
    "# 首先导入2011年1月4日沪深300指数成分股标签\n",
    "#stks = pro.index_weight(index_code='399300.SZ', start_date='20110104', end_date='20110104')['con_code']\n",
    "# 首先获取2011年前上市公司标签\n",
    "stks = pro.query('stock_basic',exchange='',list_status='L',fields='ts_code,symbol,name,area,industry,list_date')\n",
    "lst_stks = list(stks[stks['list_date']<'20110101']['ts_code'])\n",
    "# 获取十年中的交易日\n",
    "trade_cal = pro.query('trade_cal',start_date='20110101',end_date='20201231')\n",
    "trade_cal = pd.DataFrame(trade_cal[trade_cal['is_open']==1]['cal_date']).reset_index(drop=True)\n",
    "# 构建一个dictionary来分别存储每只股票的数据\n",
    "dict_stks = {}\n",
    "for stk in lst_stks:\n",
    "    dict_stks[stk] = ts.pro_bar(ts_code=stk,adj='hfq',start_date='20110101',end_date='20201231')\n",
    "for stk in dict_stks.keys():\n",
    "    dict_stks[stk] = pd.merge(trade_cal,dict_stks[stk],left_on='cal_date',right_on='trade_date',how='left')\n",
    "    dict_stks[stk]['Rtr'] = dict_stks[stk]['pct_chg']/100\n",
    "    dict_stks[stk]['LogRtr'] = np.log(dict_stks[stk]['Rtr']+1)\n",
    "# 将字典存至.npy文件，以后直接导入使用\n",
    "np.save('dict_day.npy', dict_stks)"
   ]
  },
  {
   "cell_type": "markdown",
   "metadata": {},
   "source": [
    "#### 回购数据"
   ]
  },
  {
   "cell_type": "code",
   "execution_count": null,
   "metadata": {},
   "outputs": [],
   "source": [
    "# 在tushare下载2011～2020年10年间的A股回购数据\n",
    "df_rep = pd.DataFrame()\n",
    "for year in range(2011, 2018):\n",
    "    start = str(year) + '0101'\n",
    "    end = str(year) + '1231'\n",
    "    df_rep = df_rep.append(pro.repurchase(ann_date='',start_date=start,end_date=end),ignore_index=True)\n",
    "    time.sleep(3.01) #数据接口有20次/分的频率限制\n",
    "for year in range(2018, 2021):\n",
    "    start = str(year) + '0101'\n",
    "    end = str(year) + '0630'\n",
    "    df_rep = df_rep.append(pro.repurchase(ann_date='',start_date=start,end_date=end),ignore_index=True)\n",
    "    time.sleep(3.01) #数据接口有20次/分的频率限制\n",
    "    start = str(year) + '0701'\n",
    "    end = str(year) + '1231'\n",
    "    df_rep = df_rep.append(pro.repurchase(ann_date='',start_date=start,end_date=end),ignore_index=True)\n",
    "    time.sleep(3.01) #数据接口有20次/分的频率限制\n",
    "df_rep = df_rep.sort_values('ann_date').reset_index(drop=True)\n",
    "# 构建一个dictionary来分别存储每只股票的数据\n",
    "dict_rep = dict(list(df_rep.groupby('ts_code')))\n",
    "# 将字典存至.npy文件，以后直接导入使用\n",
    "np.save('dict_rep.npy', dict_rep)"
   ]
  },
  {
   "cell_type": "markdown",
   "metadata": {},
   "source": [
    "### 锐思数据\n",
    "#### Fama-French 三因子因子收益率数据\n",
    "\n",
    "\n",
    "注：无风险利率使用上海银行间3个月同业拆放利率；使用所有交易所的三因子数据；市场溢酬因子（Rm-Rf）、市值因子（SMB）、账面市值比因子（HML）采用流通市值加权"
   ]
  },
  {
   "cell_type": "code",
   "execution_count": null,
   "metadata": {},
   "outputs": [],
   "source": [
    "# 所用数据的变量名\n",
    "columns = ['Date', 'Rmrf', 'Smb', 'Hml']\n",
    "# 导入2011～2020年10年的A股Fama-French三因子因子收益率数据\n",
    "df_3fs = pd.read_excel('/Users/bbbbyl/Python/datasets/RESSET_THRFACDAT_DAILY_1.xlsx')\n",
    "df_3fs = df_3fs[(df_3fs['交易所标识_Exchflg']==0) & (df_3fs['市场标识_Mktflg']=='A')].iloc[:,2:6]\n",
    "df_3fs.columns = columns"
   ]
  },
  {
   "cell_type": "markdown",
   "metadata": {},
   "source": [
    "#### 无风险利率数据"
   ]
  },
  {
   "cell_type": "code",
   "execution_count": null,
   "metadata": {},
   "outputs": [],
   "source": [
    "# 所用数据的变量名\n",
    "columns = ['Date', 'Rf']\n",
    "# 导入2011～2020年10年的无风险利率数据\n",
    "df_rf = pd.read_excel('/Users/bbbbyl/Python/datasets/RESSET_BDDRFRET_1.xlsx')\n",
    "df_rf.columns = columns\n",
    "# 与三因子收益率数据合并\n",
    "df_fs = pd.merge(df_3fs, df_rf, left_on='Date', right_on='Date', how='left')\n",
    "# 将数据中的日期部分改为与Tushare数据统一的格式\n",
    "df_fs.Date = [datetime.strftime(datetime.strptime(date, '%Y-%m-%d'),'%Y%m%d') for date in df_fs.Date]\n",
    "# 存储为.pkl文件，以后直接导入使用\n",
    "df_fs.to_pickle('df_fs.pkl')"
   ]
  },
  {
   "cell_type": "markdown",
   "metadata": {},
   "source": [
    "#### 市值数据"
   ]
  },
  {
   "cell_type": "code",
   "execution_count": null,
   "metadata": {},
   "outputs": [],
   "source": [
    "# 导入2011～2020年10年的年流通市值数据\n",
    "df_tmv = pd.read_excel('/Users/bbbbyl/Python/datasets/RESSET_YRMV_1.xlsx', dtype={'Stkcd':str})\n",
    "# 将数据中的日期部分改为与Tushare数据统一的格式\n",
    "df_tmv['Date'] = [string.replace('-','') for string in df_tmv['Date']]\n",
    "# 存储为.pkl文件，以后直接导入使用\n",
    "df_tmv.to_pickle('df_tmv.pkl')"
   ]
  },
  {
   "cell_type": "markdown",
   "metadata": {},
   "source": [
    "## 第二部分：数据初步探索的可视化\n",
    "Have fun and be creative!\n",
    "### 停牌日数量与日收益率之间有关系吗？"
   ]
  },
  {
   "cell_type": "code",
   "execution_count": null,
   "metadata": {},
   "outputs": [],
   "source": [
    "# 准备画图用的ndarrays（此处保留了股票代码，方便日后使用，但是如果单纯为了画出图像，直接生成ndarrays会方便很多，略去了不同数据种类之间的转换）\n",
    "dict_null = {}\n",
    "for stk in dict_day.keys():\n",
    "    dict_null[stk] = dict_day[stk]['Rtr'].isnull().sum()\n",
    "dict_Rtr = {}\n",
    "for stk in dict_day.keys():\n",
    "    dict_Rtr[stk] = dict_day[stk]['Rtr'].mean()\n",
    "df_null = pd.DataFrame(dict_null,index=pd.Index(['num_nontrade'])).T.reset_index().rename(columns={'index':'ts_code'})\n",
    "df_Rtr = pd.DataFrame(dict_Rtr,index=pd.Index(['mean_Rtr'])).T.reset_index().rename(columns={'index':'ts_code'})\n",
    "arr_null = np.array(df_null.iloc[:,1])\n",
    "arr_Rtr = np.array(df_Rtr.iloc[:,1])\n",
    "\n",
    "# 那就画图吧！\n",
    "import matplotlib.gridspec as gridspec\n",
    "\n",
    "fig = plt.figure(figsize=(15,10))\n",
    "fig.patch.set_facecolor('w')\n",
    "gspec = gridspec.GridSpec(4,4)\n",
    "gspec.update(wspace=0.15, hspace=0.05)\n",
    "\n",
    "top_hist = plt.subplot(gspec[0,1:])\n",
    "side_hist = plt.subplot(gspec[1:,0])\n",
    "scatter = plt.subplot(gspec[1:,1:])\n",
    "\n",
    "_ = scatter.scatter(arr_Rtr, arr_null, color='grey', alpha=0.5)\n",
    "scatter.set_yticks([])\n",
    "_ = top_hist.hist(arr_Rtr, bins=100, density=True, color='grey')\n",
    "top_hist.set_xticks([])\n",
    "_ = side_hist.hist(arr_null, bins=100, density=True, orientation='horizontal', color='grey')\n",
    "side_hist.invert_xaxis()\n",
    "_ = scatter.set_xlabel(xlabel='Average Daily Return', fontsize=18)\n",
    "_ = side_hist.set_ylabel('Number of Suspension Days', fontsize=18)\n",
    "_ = fig.suptitle('Suspension Days vs Average Daily Return', fontsize=25, fontweight='bold')\n",
    "# 保存我们的成果吧！\n",
    "plt.savefig('SusDays.png', dpi=500)"
   ]
  },
  {
   "cell_type": "markdown",
   "metadata": {},
   "source": [
    "### 剔除累计停牌日大于两年的股票前后个股日收益率的分布"
   ]
  },
  {
   "cell_type": "code",
   "execution_count": null,
   "metadata": {},
   "outputs": [],
   "source": [
    "# 剔除前\n",
    "fig = plt.figure(figsize=(12,10))\n",
    "fig.patch.set_facecolor('w')\n",
    "ax = plt.subplot(1,1,1)\n",
    "# statsmodels包的Q-Q图\n",
    "sm.qqplot(arr_Rtr, line='s', ax=ax)\n",
    "_ = ax.set_title('Q-Q Plot of Average Daily Return', fontsize=20, fontweight='bold')\n",
    "# 保存一下\n",
    "plt.savefig('qqplot.png', dpi=500)"
   ]
  },
  {
   "cell_type": "code",
   "execution_count": null,
   "metadata": {},
   "outputs": [],
   "source": [
    "# 剔除过程\n",
    "# 保留的股票的股票代码\n",
    "lst_remained = []\n",
    "for stk in dict_null.keys():\n",
    "    if dict_null[stk] < 250*2:\n",
    "        lst_remained.append(stk)\n",
    "len(lst_remained) # 290\n",
    "# 存储至本地文件方便之后使用\n",
    "df_rmd = pd.DataFrame(lst_remained)\n",
    "df_rmd['rs'] = [string[:-3] for string in df_rmd.iloc[:,0]]\n",
    "df_rmd.columns = ['Tushare','rs']\n",
    "df_rmd.to_pickle('df_rmd.pkl')"
   ]
  },
  {
   "cell_type": "code",
   "execution_count": null,
   "metadata": {},
   "outputs": [],
   "source": [
    "# 剔除后\n",
    "dict_Rtr_remained = {}\n",
    "for stk in lst_remained:\n",
    "    dict_Rtr_remained[stk] = dict_Rtr[stk]\n",
    "df_Rtr_remained = pd.DataFrame(dict_Rtr_remained,index=pd.Index(['mean_Rtr'])).T.reset_index().rename(columns={'index':'ts_code'})\n",
    "arr_Rtr_remained = np.array(df_Rtr_remained.iloc[:,1])\n",
    "fig = plt.figure(figsize=(12,10))\n",
    "fig.patch.set_facecolor('w')\n",
    "ax = plt.subplot(1,1,1)\n",
    "sm.qqplot(arr_Rtr_remained, line='s', ax=ax)\n",
    "_ = ax.set_title('Q-Q Plot of Average Daily Return (Remained)', fontsize=20, fontweight='bold')\n",
    "# 保存一下\n",
    "plt.savefig('qqplot_remained.png', dpi=500)"
   ]
  },
  {
   "cell_type": "markdown",
   "metadata": {},
   "source": [
    "## 第三部分：因子投资组合构建及因子收益率的计算"
   ]
  },
  {
   "cell_type": "code",
   "execution_count": null,
   "metadata": {},
   "outputs": [],
   "source": [
    "# 提取留下的290只股票的增发和回购数据\n",
    "dict_seo_rmd = {}\n",
    "dict_rep_rmd = {}\n",
    "for stk in df_rmd['Tushare']:\n",
    "    try:\n",
    "        dict_seo_rmd[stk[:-3]] = dict_seo[stk[:-3]]\n",
    "    except KeyError:\n",
    "        pass\n",
    "    try:\n",
    "        dict_rep_rmd[stk[:-3]] = dict_rep[stk]\n",
    "    except KeyError:\n",
    "        pass"
   ]
  },
  {
   "cell_type": "code",
   "execution_count": null,
   "metadata": {},
   "outputs": [],
   "source": [
    "# 验算格  # 第一次尝试实际运用try except语句，谨慎一点\n",
    "print(len(dict_seo_rmd),len(dict_rep_rmd))\n",
    "lst01 = []\n",
    "lst02 = []\n",
    "for stk in df_rmd['Tushare']:\n",
    "    if stk[:-3] in dict_seo.keys():\n",
    "        lst01.append(stk)\n",
    "    if stk in dict_rep.keys():\n",
    "        lst02.append(stk)\n",
    "print(len(lst01), len(lst02))"
   ]
  },
  {
   "cell_type": "code",
   "execution_count": null,
   "metadata": {},
   "outputs": [],
   "source": [
    "# 创建年频的2X2独立双重排序投资组合\n",
    "# 建立一个年年份列表\n",
    "lst_yr = list(range(2011, 2021))\n",
    "# 计算A股流通市值2011～2020年每年的中位数\n",
    "lst_tmv_median = []\n",
    "for year in lst_yr:\n",
    "    lst_tmv_median.append(df_tmv[df_tmv['Date']==str(year)+'1231']['Yrtmv'].median())\n",
    "#df_tmv_median = pd.DataFrame(zip(lst_yr, lst_tmv_median), columns=['year', 'tmv_median'])\n",
    "# 创建一个dictionary储存每只股票的市值分类数据\n",
    "dict_pf = {}\n",
    "for stk in df_rmd['rs']:\n",
    "    lst_temp = []\n",
    "    for year in lst_yr:\n",
    "        try:\n",
    "            lst_temp.append(df_tmv[(df_tmv['Stkcd']==stk)&(df_tmv['Date']==str(year)+'1231')]['Yrtmv'].iloc[0])\n",
    "        except:\n",
    "            lst_temp.append(np.nan)\n",
    "    dict_pf[stk] = pd.DataFrame(zip(lst_yr, lst_temp, lst_tmv_median), columns=['year', 'tmv', 'median'])\n",
    "    dict_pf[stk]['SB'] = dict_pf[stk]['tmv']<=dict_pf[stk]['median']\n",
    "    dict_pf[stk]['SB'] = ['S' if b else 'B' for b in dict_pf[stk]['SB']]\n",
    "    dict_pf[stk].drop(columns=['tmv','median'], inplace=True)\n",
    "# 将回购和增发数据添加入dict_pf，用于构建PMN因子\n",
    "for stk in dict_pf.keys():\n",
    "    lst_seo = ['-'] * 10\n",
    "    try:\n",
    "        for date in dict_seo_rmd[stk]['Ailtdt']:\n",
    "            try:\n",
    "                lst_seo[int(date[:4])-2010] = 'N'\n",
    "            except:\n",
    "                pass\n",
    "    except KeyError:\n",
    "        pass\n",
    "    dict_pf[stk]['seo'] = lst_seo\n",
    "    lst_rep = ['-'] * 10\n",
    "    try:\n",
    "        for date in dict_rep_rmd[stk].query('proc==\"实施\"')['ann_date']:\n",
    "            try:\n",
    "                lst_rep[int(date[:4])-2010] = 'P'\n",
    "            except:\n",
    "                pass\n",
    "    except KeyError:\n",
    "        pass\n",
    "    dict_pf[stk]['rep'] = lst_rep\n",
    "    dict_pf[stk]['PN'] = (dict_pf[stk]['seo']+dict_pf[stk]['rep']).str.replace('-','')\n",
    "    dict_pf[stk]['SBPN'] = dict_pf[stk]['SB']+dict_pf[stk]['PN']\n",
    "    dict_pf[stk].drop(columns=['seo','rep','SB','PN'], inplace=True)\n",
    "    dict_pf[stk]['stk'] = [stk]*10\n",
    "# 保存至npy文件\n",
    "np.save('dict_pf.npy', dict_pf)"
   ]
  },
  {
   "cell_type": "code",
   "execution_count": null,
   "metadata": {},
   "outputs": [],
   "source": [
    "# 转换成以年份为key的dictionary\n",
    "df_pf = pd.DataFrame()\n",
    "for stk in dict_pf.keys():\n",
    "    df_pf = pd.concat([df_pf, dict_pf[stk]], ignore_index=True)\n",
    "dict_pf_yr = dict(list(df_pf.groupby('year')))"
   ]
  },
  {
   "cell_type": "code",
   "execution_count": null,
   "metadata": {},
   "outputs": [],
   "source": [
    "# SBPN分类股票数量统计\n",
    "SBPN = df_pf.groupby(['year','SBPN']).agg('count')\n",
    "# 将结果保存至xlsx文件\n",
    "df_pf.groupby(['year','SBPN']).agg('count').to_excel('SBPN.xlsx')\n",
    "# 可视化\n",
    "fig = plt.figure(figsize=(15,8))\n",
    "ax = plt.subplot(1,1,1)\n",
    "fig.patch.set_facecolor('w')\n",
    "_ = SBPN.unstack().plot.barh(stacked=True, ax=ax, alpha=0.85)\n",
    "_ = ax.set_title('Stacked Bar Chart of SBPN Categories', fontsize=20, fontweight='bold')\n",
    "# 保存图片\n",
    "plt.savefig('SBPN_barh.png', dpi=500)"
   ]
  },
  {
   "cell_type": "code",
   "execution_count": null,
   "metadata": {},
   "outputs": [],
   "source": [
    "# 重新收集一下构建PMN投资组合的成分股2019～2020年股票的收益率\n",
    "# 偷了个懒，求轻喷\n",
    "lst_sbpn = ['BP','BN','SP','SN']\n",
    "lst_year = [2019,2020]\n",
    "def get_sbpn_stks(lst_year: list, lst_sbpn: list) -> dict:\n",
    "    dict_outer = {}\n",
    "    for year in lst_year:\n",
    "        dict_inner = {}\n",
    "        for sbpn in lst_sbpn:\n",
    "            dict_inner[sbpn] = list(dict_pf_yr[year].query('SBPN=='+'\"'+str(sbpn)+'\"')['stk'])\n",
    "        dict_outer[year] = dict_inner\n",
    "    return dict_outer\n",
    "def get_sbpn_trading_data(lst_year:list, lst_sbpn:list) -> dict:\n",
    "    dict_sbpn_stks = get_sbpn_stks(lst_year,lst_sbpn)\n",
    "    dict_outer = {}\n",
    "    for year in lst_year:\n",
    "        dict_middle = {}\n",
    "        trade_cal = pro.query('trade_cal',start_date=str(year)+'0101',end_date=str(year)+'1231')\n",
    "        trade_cal = pd.DataFrame(trade_cal[trade_cal['is_open']==1]['cal_date']).reset_index(drop=True)\n",
    "        for sbpn in lst_sbpn:\n",
    "            dict_inner = {}\n",
    "            for stk in dict_sbpn_stks[year][sbpn]:\n",
    "                if stk[0] == '6':\n",
    "                    stk = stk + '.SH'\n",
    "                else:\n",
    "                    stk = stk + '.SZ'\n",
    "                dict_inner[stk[:-3]] = ts.pro_bar(ts_code=stk,adj='hfq',start_date=str(year)+'0101',end_date=str(year)+'1231')\n",
    "                stk = stk[:-3]\n",
    "                dict_inner[stk] = pd.merge(trade_cal,dict_inner[stk],left_on='cal_date',right_on='trade_date',how='left')\n",
    "                dict_inner[stk]['Rtr'] = dict_inner[stk]['pct_chg']/100\n",
    "                dict_inner[stk]['LogRtr'] = np.log(dict_inner[stk]['Rtr']+1)\n",
    "            dict_middle[sbpn] = dict_inner\n",
    "        dict_outer[year] = dict_middle\n",
    "    return dict_outer\n",
    "dict_sbpn_trading = get_sbpn_trading_data(lst_year, lst_sbpn)\n",
    "# 保存一下，从tushare取一次太慢了，下次一定不了。。。\n",
    "np.save('dict_sbpn_trading.npy', dict_sbpn_trading)"
   ]
  },
  {
   "cell_type": "code",
   "execution_count": null,
   "metadata": {},
   "outputs": [],
   "source": [
    "# SBPN各类投资组合收益率描述性统计分析\n",
    "def get_df_sbpn_year(year):\n",
    "    d = {}\n",
    "    df_sbpn_year = pd.DataFrame()\n",
    "    for sbpn in lst_sbpn:\n",
    "        df = pd.DataFrame()\n",
    "        df['year'] = [year] * len(pro.query('trade_cal',start_date=str(year)+'0101',end_date=str(year)+'1231').query('is_open==1'))\n",
    "        df['sbpn'] = [sbpn] * len(df)\n",
    "        for stk in dict_sbpn_trading[year][sbpn].keys():\n",
    "            df[stk] = dict_sbpn_trading[year][sbpn][stk]['LogRtr']\n",
    "        df['pf_logr'] = [np.nanmean(df.iloc[i,2:]) for i in range(0,len(df))]\n",
    "        df.drop(columns=list(dict_sbpn_trading[year][sbpn].keys()), inplace=True)\n",
    "        d[sbpn] = df\n",
    "    for sbpn in lst_sbpn:\n",
    "        df_sbpn_year = pd.concat([df_sbpn_year, d[sbpn]])\n",
    "    return df_sbpn_year\n",
    "\n",
    "df_2019 = get_df_sbpn_year(2019)\n",
    "df_2020 = get_df_sbpn_year(2020)\n",
    "df_sbpn_pf = pd.concat([df_2019, df_2020])\n",
    "# 保存到xlsx文件\n",
    "df_sbpn_pf.groupby(['year','sbpn']).agg(['sum','mean', 'std']).to_excel('sbpn_pf_describe.xlsx')"
   ]
  },
  {
   "cell_type": "code",
   "execution_count": null,
   "metadata": {},
   "outputs": [],
   "source": [
    "# 计算PMN因子投资组合收益率\n",
    "# 写的时候有点心急了，所以用了俩临时变量，以后注意。。。\n",
    "d = {}\n",
    "for year in lst_year:\n",
    "    df = pd.DataFrame()\n",
    "    trade_cal = pro.query('trade_cal',start_date=str(year)+'0101',end_date=str(year)+'1231')\n",
    "    trade_cal = trade_cal[trade_cal['is_open']==1]['cal_date'].reset_index(drop=True)\n",
    "    df['Date'] = trade_cal\n",
    "    for sbpn in lst_sbpn:\n",
    "        df[sbpn] = df_sbpn_pf.query('year=='+str(year)+'&sbpn=='+'\"'+sbpn+'\"')['pf_logr']\n",
    "    df['PMN'] = 0.5*(df['BP']+df['SP'])-0.5*(df['BN']+df['SN'])\n",
    "    df.drop(columns=lst_sbpn, inplace=True)\n",
    "    d[year] = df\n",
    "df_PMN = pd.concat([d[2019],d[2020]]).reset_index(drop=True)\n",
    "# 存进因子dataframe\n",
    "df_4fs = df_fs.query('Date>=\"20190101\"').reset_index(drop=True)\n",
    "df_4fs['Pmn'] = df_PMN['PMN']"
   ]
  },
  {
   "cell_type": "code",
   "execution_count": null,
   "metadata": {},
   "outputs": [],
   "source": [
    "# 做图看看咱这PMN因子投资组合收益率这两年长啥样\n",
    "fig = plt.figure(figsize=(15,6))\n",
    "ax = plt.subplot(1,1,1)\n",
    "fig.patch.set_facecolor('w')\n",
    "_ = sns.lineplot(x=df_PMN['Date'],y=df_PMN['PMN'],ax=ax)\n",
    "_ = ax.set_xticks([])\n",
    "_ = ax.set_title('Return of PMN from 2019 to 2020', fontsize=20, fontweight='bold')\n",
    "# 保存一哈\n",
    "plt.savefig('PMN.png', dpi=500)"
   ]
  },
  {
   "cell_type": "markdown",
   "metadata": {},
   "source": [
    "## 第四部分：因变量的构建及回归"
   ]
  },
  {
   "cell_type": "code",
   "execution_count": null,
   "metadata": {},
   "outputs": [],
   "source": [
    "# 设置随机数种子，为了论文的可复现\n",
    "random.seed(1234)\n",
    "# 开始随机抽取股票构建投资组合\n",
    "df_results = pd.DataFrame()\n",
    "for i in range(1,26):\n",
    "    stk_index = []\n",
    "    stks = []\n",
    "    for j in range(500): # 随机不放回抽取500支股票\n",
    "        df = pd.DataFrame()\n",
    "        stk_index.append(random.randint(1,len(df_rmd)-1))\n",
    "    for k in stk_index:\n",
    "        stk = df_rmd.iloc[k,0]\n",
    "        stks.append(stk)\n",
    "        df[stk] = dict_day[stk].query('cal_date>=\"20190101\"')['LogRtr']\n",
    "    df['pf_logr'] = [np.nanmean(df.iloc[i,:]) for i in range(0,len(df))]\n",
    "    df.drop(columns=stks, inplace=True)\n",
    "    df.reset_index(drop=True, inplace=True)\n",
    "    df = pd.merge(df, df_4fs, left_index=True, right_index=True,how='left')\n",
    "    df['pf_elogr'] = df['pf_logr'] - df['Rf']\n",
    "    # 使用statsmodels包进行OLS回归\n",
    "    results1 = smf.ols('pf_elogr ~ Rmrf + Smb + Hml', data=df).fit()\n",
    "    results2 = smf.ols('pf_elogr ~ Rmrf + Smb + Hml + Pmn', data=df).fit()\n",
    "    lst = [results1.rsquared, results2.rsquared, results2.tvalues['Pmn'], results2.pvalues['Pmn']]\n",
    "    df_results['portfolio'+str(i)] = lst\n",
    "results_index = pd.Index(['3fs_rsquared','4fs_rsquared','Pmn_t','Pmn_p'])\n",
    "df_results.index = results_index\n",
    "# 将结果保存至xlsx文件\n",
    "df_results.T.to_excel('results.xlsx')"
   ]
  },
  {
   "cell_type": "markdown",
   "metadata": {},
   "source": [
    "感谢阅读，欢迎批评指正！"
   ]
  }
 ],
 "metadata": {
  "kernelspec": {
   "display_name": "Python 3",
   "language": "python",
   "name": "python3"
  },
  "language_info": {
   "codemirror_mode": {
    "name": "ipython",
    "version": 3
   },
   "file_extension": ".py",
   "mimetype": "text/x-python",
   "name": "python",
   "nbconvert_exporter": "python",
   "pygments_lexer": "ipython3",
   "version": "3.8.5"
  }
 },
 "nbformat": 4,
 "nbformat_minor": 4
}
